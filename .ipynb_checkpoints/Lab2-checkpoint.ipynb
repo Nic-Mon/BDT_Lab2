{
 "cells": [
  {
   "cell_type": "code",
   "execution_count": 2,
   "metadata": {
    "collapsed": true
   },
   "outputs": [],
   "source": [
    "import os"
   ]
  },
  {
   "cell_type": "code",
   "execution_count": 3,
   "metadata": {
    "collapsed": true
   },
   "outputs": [],
   "source": [
    "# path to java archive files for the hadoop streaming application on your machine\n",
    "JAR_FILE = \"/usr/lib/hadoop-mapreduce/hadoop-streaming-2.6.0-cdh5.7.0.jar\"\n",
    "HDFS_DIR = \"/user/cloudera/lab2\"\n",
    "!hdfs dfs -mkdir {HDFS_DIR}"
   ]
  },
  {
   "cell_type": "code",
   "execution_count": 1,
   "metadata": {
    "collapsed": true
   },
   "outputs": [],
   "source": [
    "# combine data into one file\n",
    "!cat data/*.pgn > final.pgn"
   ]
  },
  {
   "cell_type": "code",
   "execution_count": 2,
   "metadata": {
    "collapsed": true
   },
   "outputs": [],
   "source": [
    "# make dirs for scripts and results\n",
    "!mkdir scripts\n",
    "!mkdir results"
   ]
  },
  {
   "cell_type": "code",
   "execution_count": 4,
   "metadata": {
    "collapsed": true
   },
   "outputs": [],
   "source": [
    "!hadoop fs -D dfs.blocksize=134217728 -copyFromLocal final.pgn \"/user/cloudera/lab2/\""
   ]
  },
  {
   "cell_type": "code",
   "execution_count": 5,
   "metadata": {
    "collapsed": false
   },
   "outputs": [
    {
     "name": "stdout",
     "output_type": "stream",
     "text": [
      "Found 1 items\n",
      "-rw-r--r--   1 root cloudera 1458158188 2018-02-12 18:40 /user/cloudera/lab2/final.pgn\n"
     ]
    }
   ],
   "source": [
    "!hdfs dfs -ls /user/cloudera/lab2/"
   ]
  },
  {
   "cell_type": "code",
   "execution_count": null,
   "metadata": {
    "collapsed": true
   },
   "outputs": [],
   "source": [
    "import time\n",
    "t_start = time.time()\n",
    "\n",
    "# count average num of turns\n",
    "!hadoop jar {JAR_FILE} \\\n",
    "  -files scripts/reducelength.py,scripts/maplength.py \\\n",
    "  -mapper maplength.py \\\n",
    "  -reducer reducelength.py \\\n",
    "  -input {HDFS_DIR}/final.pgn \\\n",
    "  -output {HDFS_DIR}/chess-output\n",
    "\n",
    "t_end = time.time()\n",
    "t1 = t_end - t_start\n",
    "print(t1)\n",
    "!mkdir results\n",
    "!hdfs dfs -cat {HDFS_DIR}/chess-output/part-0000* > results/avglength.txt"
   ]
  },
  {
   "cell_type": "markdown",
   "metadata": {},
   "source": [
    "## Questions\n",
    "\n",
    "1. Count wins (White, Black, Tie)\n",
    "\n",
    "2. Which participant has most wins?\n",
    "\n",
    "3. Average length of chess game (number of turns)?\n",
    "\n",
    "4. Most common 4 move opener (1. A B  2. C D)\n",
    "\n"
   ]
  },
  {
   "cell_type": "code",
   "execution_count": null,
   "metadata": {
    "collapsed": true
   },
   "outputs": [],
   "source": []
  }
 ],
 "metadata": {
  "kernelspec": {
   "display_name": "Python [Root]",
   "language": "python",
   "name": "Python [Root]"
  },
  "language_info": {
   "codemirror_mode": {
    "name": "ipython",
    "version": 3
   },
   "file_extension": ".py",
   "mimetype": "text/x-python",
   "name": "python",
   "nbconvert_exporter": "python",
   "pygments_lexer": "ipython3",
   "version": "3.5.2"
  }
 },
 "nbformat": 4,
 "nbformat_minor": 2
}
