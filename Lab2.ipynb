{
 "cells": [
  {
   "cell_type": "code",
   "execution_count": 6,
   "metadata": {
    "collapsed": true
   },
   "outputs": [],
   "source": [
    "import os"
   ]
  },
  {
   "cell_type": "code",
   "execution_count": 7,
   "metadata": {
    "collapsed": true
   },
   "outputs": [],
   "source": [
    "# path to java archive files for the hadoop streaming application on your machine\n",
    "JAR_FILE = \"/usr/lib/hadoop-mapreduce/hadoop-streaming-2.6.0-cdh5.7.0.jar\"\n",
    "HDFS_DIR = \"/user/cloudera/lab2\"\n",
    "!hdfs dfs -mkdir {HDFS_DIR}"
   ]
  },
  {
   "cell_type": "code",
   "execution_count": null,
   "metadata": {},
   "outputs": [],
   "source": [
    "# first you will need to combine all the files in the data folder into one file\n",
    "# to do this, open your LOCAL terminal and navigate to the BDT_Lab2 folder\n",
    "# then enter this command:\n",
    "# cat data/*.pgn > final.pgn"
   ]
  },
  {
   "cell_type": "code",
   "execution_count": 8,
   "metadata": {
    "collapsed": true
   },
   "outputs": [],
   "source": [
    "# after you have done the above, put final.pgn onto hdfs\n",
    "!hadoop fs -D dfs.blocksize=134217728 -copyFromLocal final.pgn \"/user/cloudera/lab2/\""
   ]
  },
  {
   "cell_type": "code",
   "execution_count": 9,
   "metadata": {
    "collapsed": true
   },
   "outputs": [
    {
     "name": "stdout",
     "output_type": "stream",
     "text": [
      "packageJobJar: [] [/usr/jars/hadoop-streaming-2.6.0-cdh5.7.0.jar] /tmp/streamjob6491798882710349630.jar tmpDir=null\n",
      "18/02/20 04:57:15 INFO client.RMProxy: Connecting to ResourceManager at /0.0.0.0:8032\n",
      "18/02/20 04:57:15 INFO client.RMProxy: Connecting to ResourceManager at /0.0.0.0:8032\n",
      "18/02/20 04:57:17 INFO mapred.FileInputFormat: Total input paths to process : 1\n",
      "18/02/20 04:57:17 INFO mapreduce.JobSubmitter: number of splits:11\n",
      "18/02/20 04:57:17 INFO mapreduce.JobSubmitter: Submitting tokens for job: job_1519101694994_0001\n",
      "18/02/20 04:57:18 INFO impl.YarnClientImpl: Submitted application application_1519101694994_0001\n",
      "18/02/20 04:57:18 INFO mapreduce.Job: The url to track the job: http://docker.w261:8088/proxy/application_1519101694994_0001/\n",
      "18/02/20 04:57:18 INFO mapreduce.Job: Running job: job_1519101694994_0001\n",
      "18/02/20 04:57:30 INFO mapreduce.Job: Job job_1519101694994_0001 running in uber mode : false\n",
      "18/02/20 04:57:30 INFO mapreduce.Job:  map 0% reduce 0%\n",
      "18/02/20 04:57:50 INFO mapreduce.Job:  map 1% reduce 0%\n",
      "18/02/20 04:57:51 INFO mapreduce.Job:  map 2% reduce 0%\n",
      "18/02/20 04:57:53 INFO mapreduce.Job:  map 3% reduce 0%\n",
      "18/02/20 04:57:56 INFO mapreduce.Job:  map 4% reduce 0%\n",
      "18/02/20 04:57:57 INFO mapreduce.Job:  map 5% reduce 0%\n",
      "18/02/20 04:57:59 INFO mapreduce.Job:  map 6% reduce 0%\n",
      "18/02/20 04:58:00 INFO mapreduce.Job:  map 7% reduce 0%\n",
      "18/02/20 04:58:01 INFO mapreduce.Job:  map 8% reduce 0%\n",
      "18/02/20 04:58:03 INFO mapreduce.Job:  map 9% reduce 0%\n",
      "18/02/20 04:58:04 INFO mapreduce.Job:  map 10% reduce 0%\n",
      "18/02/20 04:58:05 INFO mapreduce.Job:  map 11% reduce 0%\n",
      "18/02/20 04:58:06 INFO mapreduce.Job:  map 12% reduce 0%\n",
      "18/02/20 04:58:07 INFO mapreduce.Job:  map 13% reduce 0%\n",
      "18/02/20 04:58:09 INFO mapreduce.Job:  map 14% reduce 0%\n",
      "18/02/20 04:58:10 INFO mapreduce.Job:  map 15% reduce 0%\n",
      "18/02/20 04:58:11 INFO mapreduce.Job:  map 16% reduce 0%\n",
      "18/02/20 04:58:12 INFO mapreduce.Job:  map 17% reduce 0%\n",
      "18/02/20 04:58:13 INFO mapreduce.Job:  map 18% reduce 0%\n",
      "18/02/20 04:58:15 INFO mapreduce.Job:  map 19% reduce 0%\n",
      "18/02/20 04:58:16 INFO mapreduce.Job:  map 20% reduce 0%\n",
      "18/02/20 04:58:17 INFO mapreduce.Job:  map 21% reduce 0%\n",
      "18/02/20 04:58:18 INFO mapreduce.Job:  map 22% reduce 0%\n",
      "18/02/20 04:58:19 INFO mapreduce.Job:  map 23% reduce 0%\n",
      "18/02/20 04:58:20 INFO mapreduce.Job:  map 24% reduce 0%\n",
      "18/02/20 04:58:21 INFO mapreduce.Job:  map 25% reduce 0%\n",
      "18/02/20 04:58:22 INFO mapreduce.Job:  map 26% reduce 0%\n",
      "18/02/20 04:58:23 INFO mapreduce.Job:  map 27% reduce 0%\n",
      "18/02/20 04:58:24 INFO mapreduce.Job:  map 28% reduce 0%\n",
      "18/02/20 04:58:25 INFO mapreduce.Job:  map 29% reduce 0%\n",
      "18/02/20 04:58:26 INFO mapreduce.Job:  map 30% reduce 0%\n",
      "18/02/20 04:58:27 INFO mapreduce.Job:  map 31% reduce 0%\n",
      "18/02/20 04:58:28 INFO mapreduce.Job:  map 32% reduce 0%\n",
      "18/02/20 04:58:29 INFO mapreduce.Job:  map 33% reduce 0%\n",
      "18/02/20 04:58:31 INFO mapreduce.Job:  map 43% reduce 0%\n",
      "18/02/20 04:58:32 INFO mapreduce.Job:  map 47% reduce 0%\n",
      "18/02/20 04:58:35 INFO mapreduce.Job:  map 55% reduce 0%\n",
      "18/02/20 04:58:52 INFO mapreduce.Job:  map 56% reduce 18%\n",
      "18/02/20 04:58:54 INFO mapreduce.Job:  map 57% reduce 18%\n",
      "18/02/20 04:58:55 INFO mapreduce.Job:  map 58% reduce 18%\n",
      "18/02/20 04:58:57 INFO mapreduce.Job:  map 60% reduce 18%\n",
      "18/02/20 04:58:58 INFO mapreduce.Job:  map 61% reduce 18%\n",
      "18/02/20 04:59:00 INFO mapreduce.Job:  map 62% reduce 18%\n",
      "18/02/20 04:59:01 INFO mapreduce.Job:  map 63% reduce 18%\n",
      "18/02/20 04:59:02 INFO mapreduce.Job:  map 64% reduce 18%\n",
      "18/02/20 04:59:03 INFO mapreduce.Job:  map 65% reduce 18%\n",
      "18/02/20 04:59:04 INFO mapreduce.Job:  map 66% reduce 18%\n",
      "18/02/20 04:59:06 INFO mapreduce.Job:  map 67% reduce 18%\n",
      "18/02/20 04:59:07 INFO mapreduce.Job:  map 68% reduce 18%\n",
      "18/02/20 04:59:09 INFO mapreduce.Job:  map 70% reduce 18%\n",
      "18/02/20 04:59:10 INFO mapreduce.Job:  map 71% reduce 18%\n",
      "18/02/20 04:59:13 INFO mapreduce.Job:  map 72% reduce 18%\n",
      "18/02/20 04:59:14 INFO mapreduce.Job:  map 74% reduce 18%\n",
      "18/02/20 04:59:16 INFO mapreduce.Job:  map 75% reduce 18%\n",
      "18/02/20 04:59:17 INFO mapreduce.Job:  map 76% reduce 18%\n",
      "18/02/20 04:59:19 INFO mapreduce.Job:  map 78% reduce 18%\n",
      "18/02/20 04:59:20 INFO mapreduce.Job:  map 79% reduce 18%\n",
      "18/02/20 04:59:22 INFO mapreduce.Job:  map 80% reduce 18%\n",
      "18/02/20 04:59:23 INFO mapreduce.Job:  map 82% reduce 18%\n",
      "18/02/20 04:59:24 INFO mapreduce.Job:  map 88% reduce 18%\n",
      "18/02/20 04:59:25 INFO mapreduce.Job:  map 89% reduce 18%\n",
      "18/02/20 04:59:26 INFO mapreduce.Job:  map 90% reduce 24%\n",
      "18/02/20 04:59:27 INFO mapreduce.Job:  map 93% reduce 24%\n",
      "18/02/20 04:59:28 INFO mapreduce.Job:  map 100% reduce 24%\n",
      "18/02/20 04:59:29 INFO mapreduce.Job:  map 100% reduce 47%\n",
      "18/02/20 04:59:32 INFO mapreduce.Job:  map 100% reduce 76%\n",
      "18/02/20 04:59:34 INFO mapreduce.Job:  map 100% reduce 100%\n",
      "18/02/20 04:59:35 INFO mapreduce.Job: Job job_1519101694994_0001 completed successfully\n",
      "18/02/20 04:59:35 INFO mapreduce.Job: Counters: 49\n",
      "\tFile System Counters\n",
      "\t\tFILE: Number of bytes read=21152614\n",
      "\t\tFILE: Number of bytes written=43711658\n",
      "\t\tFILE: Number of read operations=0\n",
      "\t\tFILE: Number of large read operations=0\n",
      "\t\tFILE: Number of write operations=0\n",
      "\t\tHDFS: Number of bytes read=1458200380\n",
      "\t\tHDFS: Number of bytes written=38\n",
      "\t\tHDFS: Number of read operations=36\n",
      "\t\tHDFS: Number of large read operations=0\n",
      "\t\tHDFS: Number of write operations=2\n",
      "\tJob Counters \n",
      "\t\tLaunched map tasks=11\n",
      "\t\tLaunched reduce tasks=1\n",
      "\t\tData-local map tasks=11\n",
      "\t\tTotal time spent by all maps in occupied slots (ms)=605864\n",
      "\t\tTotal time spent by all reduces in occupied slots (ms)=59708\n",
      "\t\tTotal time spent by all map tasks (ms)=605864\n",
      "\t\tTotal time spent by all reduce tasks (ms)=59708\n",
      "\t\tTotal vcore-seconds taken by all map tasks=605864\n",
      "\t\tTotal vcore-seconds taken by all reduce tasks=59708\n",
      "\t\tTotal megabyte-seconds taken by all map tasks=620404736\n",
      "\t\tTotal megabyte-seconds taken by all reduce tasks=61140992\n",
      "\tMap-Reduce Framework\n",
      "\t\tMap input records=39000961\n",
      "\t\tMap output records=2189096\n",
      "\t\tMap output bytes=16774416\n",
      "\t\tMap output materialized bytes=21152674\n",
      "\t\tInput split bytes=1232\n",
      "\t\tCombine input records=0\n",
      "\t\tCombine output records=0\n",
      "\t\tReduce input groups=3\n",
      "\t\tReduce shuffle bytes=21152674\n",
      "\t\tReduce input records=2189096\n",
      "\t\tReduce output records=3\n",
      "\t\tSpilled Records=4378192\n",
      "\t\tShuffled Maps =11\n",
      "\t\tFailed Shuffles=0\n",
      "\t\tMerged Map outputs=11\n",
      "\t\tGC time elapsed (ms)=2171\n",
      "\t\tCPU time spent (ms)=308120\n",
      "\t\tPhysical memory (bytes) snapshot=3301842944\n",
      "\t\tVirtual memory (bytes) snapshot=16399147008\n",
      "\t\tTotal committed heap usage (bytes)=2545418240\n",
      "\tShuffle Errors\n",
      "\t\tBAD_ID=0\n",
      "\t\tCONNECTION=0\n",
      "\t\tIO_ERROR=0\n",
      "\t\tWRONG_LENGTH=0\n",
      "\t\tWRONG_MAP=0\n",
      "\t\tWRONG_REDUCE=0\n",
      "\tFile Input Format Counters \n",
      "\t\tBytes Read=1458199148\n",
      "\tFile Output Format Counters \n",
      "\t\tBytes Written=38\n",
      "18/02/20 04:59:35 INFO streaming.StreamJob: Output directory: /user/cloudera/lab2/chess-output\n",
      "144.973958015\n"
     ]
    }
   ],
   "source": [
    "import time\n",
    "t_start = time.time()\n",
    "\n",
    "# count average num of turns\n",
    "!hadoop jar {JAR_FILE} \\\n",
    "  -files scripts/reducer_resultsByColor.py,scripts/mapper_resultsByColor.py \\\n",
    "  -mapper mapper_resultsByColor.py \\\n",
    "  -reducer reducer_resultsByColor.py \\\n",
    "  -input {HDFS_DIR}/final.pgn \\\n",
    "  -output {HDFS_DIR}/chess-output\n",
    "\n",
    "t_end = time.time()\n",
    "t1 = t_end - t_start\n",
    "print(t1)\n",
    "!hdfs dfs -cat {HDFS_DIR}/chess-output/part-0000* > results/byColor.txt"
   ]
  },
  {
   "cell_type": "code",
   "execution_count": 5,
   "metadata": {
    "collapsed": true
   },
   "outputs": [
    {
     "name": "stdout",
     "output_type": "stream",
     "text": [
      "Deleted /user/cloudera/lab2\n"
     ]
    }
   ],
   "source": [
    "# you may need to delete dir for chess-output if you need to rerun the above block\n",
    "# if so, run:\n",
    "# !hdfs dfs -rm -r {HDFS_DIR}/chess-output"
   ]
  },
  {
   "cell_type": "code",
   "execution_count": 10,
   "metadata": {
    "collapsed": true
   },
   "outputs": [
    {
     "name": "stdout",
     "output_type": "stream",
     "text": [
      "black\t620712\n",
      "draw\t738352\n",
      "white\t830032\n"
     ]
    }
   ],
   "source": [
    "# view results\n",
    "!head results/byColor.txt"
   ]
  },
  {
   "cell_type": "code",
   "execution_count": null,
   "metadata": {
    "collapsed": true
   },
   "outputs": [],
   "source": []
  },
  {
   "cell_type": "markdown",
   "metadata": {},
   "source": [
    "## Questions\n",
    "\n",
    "1. Count wins (White, Black, Tie)\n",
    "\n",
    "    ( this has been done above)\n",
    "    \n",
    "2. Which participant has most wins?\n",
    "\n",
    "3. Average length of chess game (number of turns)?\n",
    "\n",
    "4. Most common 4 move opener (1. A B  2. C D)\n",
    "\n"
   ]
  },
  {
   "cell_type": "code",
   "execution_count": null,
   "metadata": {},
   "outputs": [],
   "source": [
    "# for the other 3 questions, write your own mapper and reducer scripts, and run the above code block again\n",
    "# after you switch out the names of the python scripts"
   ]
  }
 ],
 "metadata": {
  "kernelspec": {
   "display_name": "Python 2",
   "language": "python",
   "name": "python2"
  },
  "language_info": {
   "codemirror_mode": {
    "name": "ipython",
    "version": 2
   },
   "file_extension": ".py",
   "mimetype": "text/x-python",
   "name": "python",
   "nbconvert_exporter": "python",
   "pygments_lexer": "ipython2",
   "version": "2.7.14"
  }
 },
 "nbformat": 4,
 "nbformat_minor": 2
}
